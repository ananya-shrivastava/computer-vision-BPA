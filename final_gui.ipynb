{
 "cells": [
  {
   "cell_type": "code",
   "execution_count": 4,
   "metadata": {},
   "outputs": [],
   "source": [
    "from tkinter import *\n",
    "import pyttsx3\n",
    "import os\n",
    "import sys\n",
    "import subprocess\n",
    "\n",
    "window = Tk()\n",
    "\"\"\"filename = PhotoImage(file = \"blind11.png\")\n",
    "background_label = Label(image=filename)\n",
    "background_label.grid(row=0, column=0)\n",
    "\"\"\"\n",
    "window.title(\"Welcome to Our Blind Assistive TooL\")\n",
    "\n",
    " \n",
    "window.geometry('600x800')\n",
    "\n",
    "\n",
    "window.configure(background='#0f0423')\n",
    "lbl = Label(window, text=\"Press Q to Capture Image\", font=(\"Arial Bold\", 15))\n",
    "lbl.grid(column=0, row=0)\n",
    "lbl.place(relx=0.5,y=45,anchor=\"center\")\n",
    "#lbl.place(x=100,y=45,anchor=\"center\")\n",
    "engine=pyttsx3.init()\n",
    "engine.say(\"Press Q to Capture Image\")\n",
    "engine.runAndWait()\n",
    "\n",
    "\n",
    "def clicked():\n",
    " \n",
    "    os.system('python camera.py')\n",
    "    lbl1 = Label(window, text=\"Thankyou For Capturing !!\", font=(\"Arial Bold\", 15))\n",
    "    lbl1.grid(column=0, row=3)\n",
    "    engine=pyttsx3.init()\n",
    "    engine.say(\"Thankyou For Capturing\")\n",
    "    engine.runAndWait()\n",
    "    \n",
    "btn = Button(window, text=\"Capture Image\", bg=\"#bca703\", fg=\"black\", command=clicked,height = 2, width = 12,font = ('Arial','16','bold'))\n",
    "btn.grid(column=1, row=1)\n",
    "btn.place(relx=0.5,y=100,anchor=\"center\")\n",
    "\n",
    "def compute():\n",
    "    engine=pyttsx3.init()\n",
    "    #engine.say(\"wait For the Processing\")\n",
    "    engine.say(\"wait For the Processing\")\n",
    "    engine.runAndWait()\n",
    "    cmd = 'python anushri.py'\n",
    "\n",
    "    # it will execute script which runs only `function1`\n",
    "    output = subprocess.check_output(cmd, shell=True)\n",
    "\n",
    "    lbl['text'] = output.strip()\n",
    "    \n",
    "    #lbl1 = Label(window, text=\"Processing done\", font=(\"Arial Bold\", 15))\n",
    "    #lbl1.grid(column=2, row=6)\n",
    "    lbl.place(relx=0.5,y=450,anchor=\"center\")\n",
    "    \n",
    "\n",
    "\n",
    "\n",
    "lbl1 = Label(window, text=\"Click process for image and object detection\", font=(\"Arial Bold\", 15))\n",
    "lbl1.grid(column=0, row=4)\n",
    "lbl1.place(relx=0.5,y=180,anchor=\"center\")\n",
    "\n",
    "btn1 = Button(window, text=\"Process\", bg=\"#bca703\", fg=\"black\", command=compute,height = 2, width = 12, font = ('Arial','16','bold'))\n",
    "btn1.grid(column=1, row=5)\n",
    "btn1.place(relx=0.5,y=240,anchor=\"center\")\n",
    " \n",
    "window.mainloop()"
   ]
  },
  {
   "cell_type": "markdown",
   "metadata": {},
   "source": [
    "## "
   ]
  },
  {
   "cell_type": "code",
   "execution_count": null,
   "metadata": {},
   "outputs": [],
   "source": []
  }
 ],
 "metadata": {
  "kernelspec": {
   "display_name": "Python 3",
   "language": "python",
   "name": "python3"
  },
  "language_info": {
   "codemirror_mode": {
    "name": "ipython",
    "version": 3
   },
   "file_extension": ".py",
   "mimetype": "text/x-python",
   "name": "python",
   "nbconvert_exporter": "python",
   "pygments_lexer": "ipython3",
   "version": "3.6.5"
  }
 },
 "nbformat": 4,
 "nbformat_minor": 2
}
